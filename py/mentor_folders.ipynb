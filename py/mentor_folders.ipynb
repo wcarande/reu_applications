{
 "cells": [
  {
   "cell_type": "markdown",
   "metadata": {},
   "source": [
    "# Create Reviewer Folders"
   ]
  },
  {
   "cell_type": "code",
   "execution_count": null,
   "metadata": {},
   "outputs": [],
   "source": [
    "import numpy as np\n",
    "import pandas as pd\n",
    "import glob\n",
    "import shutil\n",
    "\n",
    "import os, sys\n",
    "\n",
    "from distutils.dir_util import copy_tree"
   ]
  },
  {
   "cell_type": "code",
   "execution_count": null,
   "metadata": {},
   "outputs": [],
   "source": [
    "# Set directory and file names\n",
    "ment_csv = '../mentor_picks.csv' # mentor list\n",
    "\n",
    "ment_dir = '../mentor_folders/' # directory for mentor folders\n",
    "\n",
    "stu_dir = '../student_folders/' # directory for student folders"
   ]
  },
  {
   "cell_type": "code",
   "execution_count": null,
   "metadata": {},
   "outputs": [],
   "source": [
    "# Read mentor list to dataframe\n",
    "df_ment = pd.read_csv(ment_csv) "
   ]
  },
  {
   "cell_type": "code",
   "execution_count": null,
   "metadata": {},
   "outputs": [],
   "source": [
    "# Print first 5 rows\n",
    "df_ment.head(10)"
   ]
  },
  {
   "cell_type": "code",
   "execution_count": null,
   "metadata": {},
   "outputs": [],
   "source": [
    "df_ment.columns"
   ]
  },
  {
   "cell_type": "code",
   "execution_count": null,
   "metadata": {},
   "outputs": [],
   "source": [
    "df_ment.columns = [mentor.replace(\" \", \"_\") for mentor in df_ment.columns]   "
   ]
  },
  {
   "cell_type": "code",
   "execution_count": null,
   "metadata": {},
   "outputs": [],
   "source": [
    "df_ment"
   ]
  },
  {
   "cell_type": "code",
   "execution_count": null,
   "metadata": {},
   "outputs": [],
   "source": [
    "# For each reviewer, make a directory\n",
    "for i in np.arange(len(df_ment.columns)):\n",
    "    os.mkdir(f'{ment_dir}{df_ment.columns[i]}')\n",
    "    print(f'Made directory {ment_dir}{df_ment.columns[i]}')"
   ]
  },
  {
   "cell_type": "code",
   "execution_count": null,
   "metadata": {},
   "outputs": [],
   "source": [
    "for i in np.arange(len(df_ment.columns)):\n",
    "    for j in np.arange(df_ment.shape[0]):\n",
    "        student = df_ment[df_ment.columns[i]][j]\n",
    "        if pd.isna(student) == False:\n",
    "            stu_split = student.split()\n",
    "            dir_match = glob.glob(f'{stu_dir}{stu_split[-1]}*{stu_split[0]}*')\n",
    "            if len(dir_match) == 0:\n",
    "                dir_match = glob.glob(f'{stu_dir}{stu_split[1]}*')\n",
    "            if len(dir_match) == 1:\n",
    "                basename = os.path.basename(dir_match[0])\n",
    "#                 print(dir_match[0])\n",
    "#                 print(f'{ment_dir}{df_ment.columns[i]}/{basename}/')\n",
    "                copy_tree(dir_match[0], f'{ment_dir}{df_ment.columns[i]}/{basename}/')\n",
    "            else:\n",
    "                print(f'Problem with {student}')"
   ]
  },
  {
   "cell_type": "code",
   "execution_count": null,
   "metadata": {},
   "outputs": [],
   "source": [
    "# Check that the reviewer folders have the correct number of student directories\n",
    "for i in np.arange(len(df_ment.columns)):\n",
    "    print(df_ment.columns[i], len(os.listdir(f'{ment_dir}{df_ment.columns[i]}')))"
   ]
  },
  {
   "cell_type": "code",
   "execution_count": null,
   "metadata": {},
   "outputs": [],
   "source": [
    "for i in np.arange(len(df_ment.columns)):\n",
    "    shutil.make_archive(f'{ment_dir}{df_ment.columns[i]}', 'zip', f'{ment_dir}{df_ment.columns[i]}')"
   ]
  },
  {
   "cell_type": "code",
   "execution_count": null,
   "metadata": {},
   "outputs": [],
   "source": []
  }
 ],
 "metadata": {
  "kernelspec": {
   "display_name": "Python 3",
   "language": "python",
   "name": "python3"
  },
  "language_info": {
   "codemirror_mode": {
    "name": "ipython",
    "version": 3
   },
   "file_extension": ".py",
   "mimetype": "text/x-python",
   "name": "python",
   "nbconvert_exporter": "python",
   "pygments_lexer": "ipython3",
   "version": "3.8.8"
  }
 },
 "nbformat": 4,
 "nbformat_minor": 4
}
