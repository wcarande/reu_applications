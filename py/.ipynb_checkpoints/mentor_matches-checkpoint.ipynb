{
 "cells": [
  {
   "cell_type": "markdown",
   "metadata": {},
   "source": [
    "# Create Reviewer Folders"
   ]
  },
  {
   "cell_type": "code",
   "execution_count": null,
   "metadata": {},
   "outputs": [],
   "source": [
    "import numpy as np\n",
    "import pandas as pd\n",
    "import glob\n",
    "\n",
    "import os, sys\n",
    "\n",
    "from distutils.dir_util import copy_tree"
   ]
  },
  {
   "cell_type": "code",
   "execution_count": null,
   "metadata": {},
   "outputs": [],
   "source": [
    "# Set directory and file names\n",
    "men_csv = '../mentormatches.csv' # mentor match list\n",
    "\n",
    "men_dir = '../mentor_folders/' # directory for reviewer folders\n",
    "\n",
    "stu_dir = '../student_folders/' # directory for student folders"
   ]
  },
  {
   "cell_type": "code",
   "execution_count": null,
   "metadata": {},
   "outputs": [],
   "source": [
    "# Read reviewer list to dataframe\n",
    "df_mentor = pd.read_csv(men_csv) "
   ]
  },
  {
   "cell_type": "code",
   "execution_count": null,
   "metadata": {},
   "outputs": [],
   "source": [
    "# Print first 5 rows\n",
    "df_mentor.head(15)"
   ]
  },
  {
   "cell_type": "code",
   "execution_count": null,
   "metadata": {},
   "outputs": [],
   "source": [
    "# For each reviewer, make a directory\n",
    "for name in list(df_mentor['mentor'].unique()):\n",
    "    os.mkdir(f'{men_dir}{name}')\n",
    "    print(f'Made directory {men_dir}{name}')"
   ]
  },
  {
   "cell_type": "code",
   "execution_count": null,
   "metadata": {},
   "outputs": [],
   "source": [
    "for i in df_mentor.index.tolist():\n",
    "    for col in df_mentor.columns[1:].tolist():\n",
    "        if pd.isnull(df_mentor[col][i]) is False:\n",
    "            if df_mentor[col][i] == 'Brown':\n",
    "                dir_match = glob.glob(f'{stu_dir}{df_mentor[col][i]}_Jenny*')\n",
    "            elif df_mentor[col][i] == 'Smith':\n",
    "                dir_match = glob.glob(f'{stu_dir}{df_mentor[col][i]}_Jenna*')\n",
    "            else:\n",
    "                dir_match = glob.glob(f'{stu_dir}{df_mentor[col][i]}_*')\n",
    "                if len(dir_match) == 1:\n",
    "                    basename = os.path.basename(dir_match[0])\n",
    "                    print(dir_match[0], f'{men_dir}{df_mentor[\"mentor\"][i]}/{basename}/')\n",
    "                    copy_tree(dir_match[0], f'{men_dir}{df_mentor[\"mentor\"][i]}/{basename}/')\n",
    "                    copy_tree(dir_match[0], f'{men_dir}{df_mentor[\"mentor\"][i]}/{basename}/')\n",
    "                elif len(dir_match) > 1:\n",
    "                    print('too many matches', dir_match)\n",
    "                else:\n",
    "                    print('problem with', df_mentor[col][i])\n",
    "            \n",
    "            "
   ]
  },
  {
   "cell_type": "code",
   "execution_count": null,
   "metadata": {},
   "outputs": [],
   "source": [
    "# Check that the reviewer folders have the correct number of student directories\n",
    "for name in list(df_mentor['mentor'].unique()):\n",
    "    print(name, len(os.listdir(f'{men_dir}{name}')))"
   ]
  },
  {
   "cell_type": "code",
   "execution_count": null,
   "metadata": {},
   "outputs": [],
   "source": []
  }
 ],
 "metadata": {
  "kernelspec": {
   "display_name": "Python 3",
   "language": "python",
   "name": "python3"
  },
  "language_info": {
   "codemirror_mode": {
    "name": "ipython",
    "version": 3
   },
   "file_extension": ".py",
   "mimetype": "text/x-python",
   "name": "python",
   "nbconvert_exporter": "python",
   "pygments_lexer": "ipython3",
   "version": "3.8.8"
  }
 },
 "nbformat": 4,
 "nbformat_minor": 4
}
