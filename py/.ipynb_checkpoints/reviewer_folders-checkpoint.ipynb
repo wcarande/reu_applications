{
 "cells": [
  {
   "cell_type": "markdown",
   "metadata": {},
   "source": [
    "# Create Reviewer Folders"
   ]
  },
  {
   "cell_type": "code",
   "execution_count": null,
   "metadata": {},
   "outputs": [],
   "source": [
    "import numpy as np\n",
    "import pandas as pd\n",
    "import glob\n",
    "\n",
    "import os, sys\n",
    "\n",
    "from distutils.dir_util import copy_tree"
   ]
  },
  {
   "cell_type": "code",
   "execution_count": null,
   "metadata": {},
   "outputs": [],
   "source": [
    "# Set directory and file names\n",
    "rev_csv = '../reviewer_list.csv' # reviewer list\n",
    "\n",
    "rev_dir = '../reviewer_folders/' # directory for reviewer folders\n",
    "\n",
    "stu_dir = '../student_folders/' # directory for student folders"
   ]
  },
  {
   "cell_type": "code",
   "execution_count": null,
   "metadata": {},
   "outputs": [],
   "source": [
    "# Read reviewer list to dataframe\n",
    "df_rev = pd.read_csv(rev_csv) \n",
    "\n",
    "# Drop nan rows\n",
    "df_rev.dropna(inplace=True)"
   ]
  },
  {
   "cell_type": "code",
   "execution_count": null,
   "metadata": {},
   "outputs": [],
   "source": [
    "# Print first 5 rows\n",
    "df_rev.head(5)"
   ]
  },
  {
   "cell_type": "code",
   "execution_count": null,
   "metadata": {},
   "outputs": [],
   "source": [
    "# For each reviewer, make a directory\n",
    "for name in list(df_rev['Revr 1 Name'].unique()):\n",
    "    os.mkdir(f'{rev_dir}{name}')\n",
    "    print(f'Made directory {rev_dir}{name}')"
   ]
  },
  {
   "cell_type": "code",
   "execution_count": null,
   "metadata": {},
   "outputs": [],
   "source": [
    "# For each student, copy student directory to reviewer folder\n",
    "for i in df_rev.index.tolist():\n",
    "    try:\n",
    "        # This is necessary due to some formatting oddities\n",
    "        dir_match = glob.glob(f'{stu_dir}{df_rev[\"Last Name\"][i]}*{df_rev[\"First Name\"][i]}*')\n",
    "        if len(dir_match) == 1:\n",
    "            basename = os.path.basename(dir_match[0])\n",
    "            print(dir_match[0], f'{rev_dir}{df_rev[\"Revr 1 Name\"][i]}/{basename}/')\n",
    "            copy_tree(dir_match[0], f'{rev_dir}{df_rev[\"Revr 1 Name\"][i]}/{basename}/')\n",
    "            copy_tree(dir_match[0], f'{rev_dir}{df_rev[\"Revr 2 Name\"][i]}/{basename}/')\n",
    "            \n",
    "        # Special case for this name due to special character\n",
    "        elif df_rev[\"Last Name\"][i] == 'Canuelas':\n",
    "            dir_match = glob.glob(f'{stu_dir}Ca*{df_rev[\"First Name\"][i]}*')\n",
    "            if len(dir_match) == 1:\n",
    "                basename = os.path.basename(dir_match[0])\n",
    "                copy_tree(dir_match[0], f'{rev_dir}{df_rev[\"Revr 1 Name\"][i]}/{basename}/')\n",
    "                copy_tree(dir_match[0], f'{rev_dir}{df_rev[\"Revr 2 Name\"][i]}/{basename}/')\n",
    "\n",
    "    # If there's an error, print it\n",
    "    except:\n",
    "        error = sys.exc_info()\n",
    "        print(i, error)"
   ]
  },
  {
   "cell_type": "code",
   "execution_count": null,
   "metadata": {},
   "outputs": [],
   "source": [
    "# Check that the reviewer folders have the correct number of student directories\n",
    "for name in list(df_rev['Revr 1 Name'].unique()):\n",
    "    print(name, len(os.listdir(f'{rev_dir}{name}')))"
   ]
  },
  {
   "cell_type": "code",
   "execution_count": null,
   "metadata": {},
   "outputs": [],
   "source": []
  }
 ],
 "metadata": {
  "kernelspec": {
   "display_name": "Python 3",
   "language": "python",
   "name": "python3"
  },
  "language_info": {
   "codemirror_mode": {
    "name": "ipython",
    "version": 3
   },
   "file_extension": ".py",
   "mimetype": "text/x-python",
   "name": "python",
   "nbconvert_exporter": "python",
   "pygments_lexer": "ipython3",
   "version": "3.8.8"
  }
 },
 "nbformat": 4,
 "nbformat_minor": 4
}
