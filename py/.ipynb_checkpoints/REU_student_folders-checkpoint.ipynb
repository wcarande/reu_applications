{
 "cells": [
  {
   "cell_type": "markdown",
   "metadata": {},
   "source": [
    "# REU Student Application Assembly\n",
    "\n",
    "The goal of this notebook is to assemble application materials into a package for reviewers.\n",
    "\n",
    "## Important Instructions!\n",
    "In one folder up from this py directory you need to create a directory called student_folders and one called docx. In docx, create a new subdirectory called rec.\n",
    "\n",
    "    -- Main directory\n",
    "  \n",
    "        -- docx\n",
    "  \n",
    "            -- rec\n",
    "      \n",
    "    -- py\n",
    "      \n",
    "        -- *this file*\n",
    "      \n",
    "    -- student_folders\n",
    "  \n",
    "    -- *transcript folder*\n",
    "  \n",
    "    -- *application csv file*\n",
    "  \n",
    "    -- *reference csv file*\n",
    "  \n",
    "    -- application_template.docx\n",
    "  \n",
    "    -- rec_template.docx"
   ]
  },
  {
   "cell_type": "code",
   "execution_count": null,
   "metadata": {},
   "outputs": [],
   "source": [
    "import numpy as np\n",
    "import pandas as pd\n",
    "\n",
    "import os, sys, re\n",
    "import glob\n",
    "import datetime\n",
    "\n",
    "from mailmerge import MailMerge\n",
    "from shutil import copy2\n",
    "from docx2pdf import convert\n",
    "from PyPDF2 import PdfFileMerger, PdfFileReader, PdfFileWriter\n",
    "from pikepdf import Pdf\n",
    "\n",
    "%load_ext autoreload\n",
    "%autoreload 1"
   ]
  },
  {
   "cell_type": "markdown",
   "metadata": {},
   "source": [
    "### Update these values every year"
   ]
  },
  {
   "cell_type": "code",
   "execution_count": null,
   "metadata": {},
   "outputs": [],
   "source": [
    "# CSV with application info\n",
    "df_app_orig = pd.read_csv('../2022 BSA REU application_January 25, 2022_15.14.csv')\n",
    "\n",
    "# CSV with rec letter info\n",
    "df_letter = pd.read_csv('../Reference request 2022_January 31, 2022_10.19.csv')\n",
    "\n",
    "# Transcript directory - this may change from year to year!\n",
    "transcript_dir = '../Q39'\n",
    "\n",
    "# Student name column on --reference form--\n",
    "student_name_col = 'Q5'\n",
    "\n",
    "# Drop names from reference form\n",
    "name_drop = []\n",
    "\n",
    "# These were the indices to be dropped we determined by inspecting the --applications--\n",
    "drop_list = [95]\n",
    "\n",
    "# Define name columns for --application spreadsheet--\n",
    "first_name_col = 'Q2_1'\n",
    "last_name_col = 'Q2_2'\n",
    "citizen_col = 'Q5'\n",
    "graduation_col = 'Q12'"
   ]
  },
  {
   "cell_type": "code",
   "execution_count": null,
   "metadata": {},
   "outputs": [],
   "source": [
    "# These are names that don't match the application form\n",
    "names_orig = ['Example D. One']\n",
    "\n",
    "# They need to be replaced with these names\n",
    "names_replace = ['Example One']"
   ]
  },
  {
   "cell_type": "code",
   "execution_count": null,
   "metadata": {},
   "outputs": [],
   "source": [
    "# Replace the names from the above list\n",
    "df_letter.replace(names_orig, names_replace, inplace=True)"
   ]
  },
  {
   "cell_type": "code",
   "execution_count": null,
   "metadata": {},
   "outputs": [],
   "source": [
    "# Remove white space in names\n",
    "name_cols = [first_name_col, last_name_col]\n",
    "df_app_orig[name_cols] = df_app_orig[name_cols].apply(lambda x: x.str.strip())"
   ]
  },
  {
   "cell_type": "markdown",
   "metadata": {},
   "source": [
    "### Define dataframes"
   ]
  },
  {
   "cell_type": "code",
   "execution_count": null,
   "metadata": {},
   "outputs": [],
   "source": [
    "# Define a full name column (first plus last) for use later\n",
    "df_app_orig['full_name'] = df_app_orig[first_name_col]+df_app_orig[last_name_col]\n",
    "\n",
    "# Remove unfinished applications, student who will graduate before program, and non-citizens\n",
    "df_app_slice = df_app_orig[(df_app_orig['Finished']==True)\n",
    "                & (df_app_orig[citizen_col]=='Yes') \n",
    "                & (df_app_orig[graduation_col]=='No')]\n",
    "\n",
    "# Drop the indices from the drop list\n",
    "df_app_slice.drop(drop_list, inplace=True)\n",
    "\n",
    "# Find the duplicates\n",
    "df_duplicate = df_app_slice[df_app_slice.duplicated(subset = ['full_name'], keep=False)]\n",
    "\n",
    "# Print duplicates to a csv file\n",
    "df_duplicate.sort_values(by=['full_name']).to_csv('../duplicates.csv')"
   ]
  },
  {
   "cell_type": "code",
   "execution_count": null,
   "metadata": {},
   "outputs": [],
   "source": [
    "df_duplicate[first_name_col]"
   ]
  },
  {
   "cell_type": "code",
   "execution_count": null,
   "metadata": {},
   "outputs": [],
   "source": [
    "# Replace NaNs (makes the application prettier)\n",
    "df_app = df_app_slice.replace(np.nan, '', regex=True)\n",
    "\n",
    "# Reset the indices\n",
    "df_app.reset_index(inplace=True)\n",
    "\n",
    "# Print a final list to put on Google docs\n",
    "# df_app.drop(df_app.columns[np.arange(19)], axis=1).to_csv('../final_list.csv')"
   ]
  },
  {
   "cell_type": "code",
   "execution_count": null,
   "metadata": {},
   "outputs": [],
   "source": [
    "letter_drop_list = df_letter.index[df_letter[student_name_col].isin(name_drop)].tolist()\n",
    "df_letter.drop(letter_drop_list, inplace=True)\n",
    "\n",
    "# Replace NaNs\n",
    "df_letter = df_letter.replace(np.nan, '', regex=True)\n",
    "\n",
    "# Take out middle names and whitespace at beginning and end\n",
    "letter_name_col = [student_name_col]\n",
    "df_letter[letter_name_col] = df_letter[letter_name_col].apply(lambda x: x.str.rstrip())\n",
    "df_letter[letter_name_col] = df_letter[letter_name_col].apply(lambda x: x.str.lstrip())\n",
    "\n",
    "names = [f\"{df_app[first_name_col][i]} {df_app[last_name_col][i]}\" for i in df_app.index.tolist()]        \n",
    "\n",
    "letter_names = df_letter[student_name_col].tolist()\n",
    "\n",
    "no_overlap = [name for name in letter_names if name not in names]\n",
    "\n",
    "if len(no_overlap) > 0:\n",
    "    print('Unreconciled references for: ', no_overlap)"
   ]
  },
  {
   "cell_type": "markdown",
   "metadata": {},
   "source": [
    "### Make Student Directories and Create an Application docx for each student"
   ]
  },
  {
   "cell_type": "code",
   "execution_count": null,
   "metadata": {},
   "outputs": [],
   "source": [
    "# Open an error log\n",
    "dt_now = datetime.datetime.now().strftime(\"%Y%m%d-%H%M%S\")\n",
    "f_error = f'../errors-{dt_now}.txt'\n",
    "f_err = open(f_error, \"a\")"
   ]
  },
  {
   "cell_type": "code",
   "execution_count": null,
   "metadata": {},
   "outputs": [],
   "source": [
    "for i in df_app.index.tolist():\n",
    "    try:\n",
    "        # Format student name\n",
    "        name = f\"{df_app[first_name_col][i]} {df_app[last_name_col][i]}\"\n",
    "        print(f'Starting {name}')\n",
    "\n",
    "        # Define student directory\n",
    "        student_dir = f\"../student_folders/{df_app[last_name_col][i]}_{df_app[first_name_col][i]}\"\n",
    "\n",
    "        # Make the directory\n",
    "        os.mkdir(student_dir)\n",
    "        \n",
    "        # Convert year to integer\n",
    "        df_app['Q13'] = df_app['Q13'].astype(int)\n",
    "\n",
    "        # MailMerge to create pretty application\n",
    "        with MailMerge('../application_template.docx') as document:\n",
    "            f_docx = f\"../docx/{df_app[last_name_col][i]}_{df_app[first_name_col][i]}_application.docx\"\n",
    "            f_pdf = f\"../docx/{df_app[last_name_col][i]}_{df_app[first_name_col][i]}_application.pdf\"\n",
    "            document.merge(Q2_1=str(df_app['Q2_1'][i]), Q2_2=str(df_app['Q2_2'][i]), \n",
    "                           Q16=str(df_app['Q16'][i]), Q7_1=str(df_app['Q7_1'][i]), \n",
    "                           Q7_2=str(df_app['Q7_2'][i]), Q7_3=str(df_app['Q7_3'][i]), \n",
    "                           Q8=str(df_app['Q8'][i]), Q10=str(df_app['Q10'][i]), \n",
    "                           Q9=str(df_app['Q9'][i]), Q18=str(df_app['Q18'][i]), \n",
    "                           Q13=str(df_app['Q13'][i]), Q14=str(df_app['Q14'][i]), \n",
    "                           Q11=str(df_app['Q11'][i]), Q17=str(df_app['Q17'][i]), \n",
    "                           Q20=str(df_app['Q20'][i]), Q21=str(df_app['Q21'][i]), \n",
    "                           Q22=str(df_app['Q22'][i]), Q24=str(df_app['Q24'][i]), \n",
    "                           Q25=str(df_app['Q25'][i]), Q26=str(df_app['Q26'][i]), \n",
    "                           Q28=str(df_app['Q28'][i]), Q27=str(df_app['Q27'][i]), \n",
    "                           Q29=str(df_app['Q29'][i]), Q30_1=str(df_app['Q30_1'][i]), \n",
    "                           Q30_2=str(df_app['Q30_2'][i]), Q30_3=str(df_app['Q30_3'][i]), \n",
    "                           Q30_4=str(df_app['Q30_4'][i]), Q30_5=str(df_app['Q30_5'][i]), \n",
    "                           Q31=str(df_app['Q31'][i]), Q33=str(df_app['Q33'][i]), \n",
    "                           Q35=str(df_app['Q35'][i]), Q34=str(df_app['Q34'][i]), \n",
    "                           Q37=str(df_app['Q37'][i]), Q38=str(df_app['Q38'][i]), \n",
    "                           Q36=str(df_app['Q36'][i]))\n",
    "\n",
    "            # Write pretty application\n",
    "            document.write(f_docx)\n",
    "\n",
    "\n",
    "    except:\n",
    "        print(f'Problem with {name}')\n",
    "        f_err.write(f'Problem with {name}\\n \\n')\n",
    "        error = sys.exc_info()\n",
    "        print(error)\n",
    "        f_err.write(f'{error} \\n \\n')\n",
    "        pass"
   ]
  },
  {
   "cell_type": "markdown",
   "metadata": {},
   "source": [
    "### Convert Application docx files to pdf"
   ]
  },
  {
   "cell_type": "code",
   "execution_count": null,
   "metadata": {},
   "outputs": [],
   "source": [
    "try:\n",
    "    convert('../docx', keep_active=True)\n",
    "except:\n",
    "    error = sys.exc_info()\n",
    "    print(error)\n",
    "    f_err.write(f'{error} \\n \\n')\n",
    "    pass"
   ]
  },
  {
   "cell_type": "markdown",
   "metadata": {},
   "source": [
    "### Move Application PDFs to student folders"
   ]
  },
  {
   "cell_type": "code",
   "execution_count": null,
   "metadata": {},
   "outputs": [],
   "source": [
    "for i in df_app.index.tolist():\n",
    "    try:\n",
    "        # Format student name\n",
    "        name = f\"{df_app[first_name_col][i]} {df_app[last_name_col][i]}\"\n",
    "        print(f'Starting {name}')\n",
    "\n",
    "        # Define student directory\n",
    "        student_dir = f'../student_folders/{df_app[last_name_col][i]}_{df_app[first_name_col][i]}'\n",
    "\n",
    "        # Copy PDF of application to student directory\n",
    "        f_pdf = f'../docx/{df_app[last_name_col][i]}_{df_app[first_name_col][i]}_application.pdf'\n",
    "        copy2(f_pdf, student_dir)\n",
    "\n",
    "    except:\n",
    "        print(f'Problem with {name}')\n",
    "        f_err.write(f'Problem with {name}')\n",
    "        error = sys.exc_info()\n",
    "        print(error)\n",
    "        f_err.write(f'{error} \\n \\n')\n",
    "        pass"
   ]
  },
  {
   "cell_type": "markdown",
   "metadata": {},
   "source": [
    "### Copy transcripts to student folders"
   ]
  },
  {
   "cell_type": "code",
   "execution_count": null,
   "metadata": {},
   "outputs": [],
   "source": [
    "for i in df_app.index.tolist():\n",
    "    try:\n",
    "        # Format student name\n",
    "        name = f\"{df_app[first_name_col][i]} {df_app[last_name_col][i]}\"\n",
    "        print(f'Starting {name}')\n",
    "\n",
    "        # Define student directory\n",
    "        student_dir = f'../student_folders/{df_app[last_name_col][i]}_{df_app[first_name_col][i]}'\n",
    "\n",
    "        # Copy transcripts to student dir\n",
    "        id_num = df_app['ResponseId'][i]\n",
    "        id_name = f'{transcript_dir}/*{id_num}*'\n",
    "        transcripts = glob.glob(id_name)\n",
    "        for transcript in transcripts:\n",
    "            tran_name = os.path.basename(transcript)\n",
    "            tran_rename = f'zzzz_{tran_name}'\n",
    "            copy2(transcript, f'{student_dir}/{tran_rename}')\n",
    "\n",
    "    except:\n",
    "        print(f'Problem with {name}')\n",
    "        f_err.write(f'Problem with {name}')\n",
    "        error = sys.exc_info()\n",
    "        print(error)\n",
    "        f_err.write(f'{error} \\n \\n')\n",
    "        pass"
   ]
  },
  {
   "cell_type": "markdown",
   "metadata": {},
   "source": [
    "### Create sheets with recommendation info"
   ]
  },
  {
   "cell_type": "code",
   "execution_count": null,
   "metadata": {},
   "outputs": [],
   "source": [
    "for i in df_app.index.tolist():\n",
    "    try:\n",
    "        # Format student name\n",
    "        name = f\"{df_app[first_name_col][i]} {df_app[last_name_col][i]}\"\n",
    "        print(f'Starting {name}')\n",
    "\n",
    "        # Define student directory\n",
    "        student_dir = f'../student_folders/{df_app[last_name_col][i]}_{df_app[first_name_col][i]}'\n",
    "\n",
    "        # Make Rec Sheets from template\n",
    "        df_name = df_letter[df_letter[student_name_col] == name]\n",
    "\n",
    "        n = 1\n",
    "        for ind in df_name.index.tolist():\n",
    "            # MailMerge to create pretty rec sheets\n",
    "            with MailMerge('../rec_template.docx') as document:\n",
    "                f_docx = f\"../docx/rec/{df_app[last_name_col][i]}_{df_app[first_name_col][i]}_rec_{n}.docx\"\n",
    "                f_pdf = f\"../docx/rec/{df_app[last_name_col][i]}_{df_app[first_name_col][i]}_rec_{n}.pdf\"\n",
    "                document.merge(Q5=str(df_letter['Q5'][ind]), Q3=str(df_letter['Q3'][ind]), \n",
    "                               Q4=str(df_letter['Q4'][ind]), Q6=str(df_letter['Q6'][ind]), \n",
    "                               Q7=str(df_letter['Q7'][ind]), Q8=str(df_letter['Q8'][ind]))\n",
    "\n",
    "                # Write pretty application\n",
    "                document.write(f_docx)\n",
    "\n",
    "                n += 1\n",
    "    except:\n",
    "        print(f'Problem with {name}')\n",
    "        f_err.write(f'Problem with {name}')\n",
    "        error = sys.exc_info()\n",
    "        print(error)\n",
    "        f_err.write(f'{error} \\n \\n')\n",
    "        pass"
   ]
  },
  {
   "cell_type": "markdown",
   "metadata": {},
   "source": [
    "### Convert rec sheets from docx to pdf"
   ]
  },
  {
   "cell_type": "code",
   "execution_count": null,
   "metadata": {},
   "outputs": [],
   "source": [
    "try:\n",
    "    convert('../docx/rec', keep_active=True)\n",
    "except:\n",
    "    error = sys.exc_info()\n",
    "    print(error)\n",
    "    f_err.write(f'{error} \\n \\n')\n",
    "    pass"
   ]
  },
  {
   "cell_type": "markdown",
   "metadata": {},
   "source": [
    "### Move rec sheets to student folders"
   ]
  },
  {
   "cell_type": "code",
   "execution_count": null,
   "metadata": {},
   "outputs": [],
   "source": [
    "# Copy rec sheets to student directories\n",
    "for i in df_app.index.tolist():\n",
    "    try:\n",
    "        # Format student name\n",
    "        name = f\"{df_app[first_name_col][i]} {df_app[last_name_col][i]}\"\n",
    "        print(f'Starting {name}')\n",
    "\n",
    "        # Define student directory\n",
    "        student_dir = f'../student_folders/{df_app[last_name_col][i]}_{df_app[first_name_col][i]}'\n",
    "\n",
    "        # Copy PDF of rec sheets to student directory\n",
    "        for file in glob.glob(f'../docx/rec/{df_app[last_name_col][i]}_{df_app[first_name_col][i]}_rec_*.pdf'):\n",
    "            rec_sheet = os.path.basename(file)\n",
    "            rec_sheet_rename = f'zz_{rec_sheet}'\n",
    "            copy2(file, f'{student_dir}/{rec_sheet_rename}')\n",
    "\n",
    "    except:\n",
    "        print(f'Problem with {name}')\n",
    "        f_err.write(f'Problem with {name}')\n",
    "        error = sys.exc_info()\n",
    "        print(error)\n",
    "        f_err.write(f'{error} \\n \\n')\n",
    "        pass"
   ]
  },
  {
   "cell_type": "markdown",
   "metadata": {},
   "source": [
    "### Save a merged PDF"
   ]
  },
  {
   "cell_type": "code",
   "execution_count": null,
   "metadata": {},
   "outputs": [],
   "source": [
    "for i in df_app.index.tolist():\n",
    "    try:\n",
    "        # Format student name\n",
    "        name = f\"{df_app[first_name_col][i]} {df_app[last_name_col][i]}\"\n",
    "        print(f'Starting {name}')\n",
    "\n",
    "        # Define student directory\n",
    "        student_dir = f'../student_folders/{df_app[last_name_col][i]}_{df_app[first_name_col][i]}'\n",
    "\n",
    "        # Merge pdfs\n",
    "        pdfs_unsorted = glob.glob(f'{student_dir}/*.pdf')\n",
    "        pdfs_unsorted_2 = glob.glob(f'{student_dir}/*.PDF')\n",
    "        pdfs = sorted(pdfs_unsorted+pdfs_unsorted_2)\n",
    "\n",
    "        if len(pdfs) > 0:\n",
    "            out = PdfFileWriter()\n",
    "            merger = PdfFileMerger(strict=False)\n",
    "            for pdf in pdfs:\n",
    "                pdf_file = PdfFileReader(pdf)\n",
    "                if pdf_file.isEncrypted:\n",
    "                    # This block creates a dummy decrypted file and adds it to the merged pdf\n",
    "                    with Pdf.open(pdf) as pdffile:\n",
    "                        pdffile.save(\"myfile_decrypted.pdf\")\n",
    "                    merger.append(\"myfile_decrypted.pdf\", import_bookmarks=False)\n",
    "                else:            \n",
    "                    merger.append(pdf, import_bookmarks=False)\n",
    "            merger.write(f'{student_dir}/{df_app[last_name_col][i]}_{df_app[first_name_col][i]}_merged.pdf')\n",
    "            merger.close()\n",
    "\n",
    "    except:\n",
    "        print(f'Problem with {name}')\n",
    "        f_err.write(f'Problem with {name}')\n",
    "        error = sys.exc_info()\n",
    "        print(error)\n",
    "        f_err.write(f'{error} \\n \\n')\n",
    "        pass"
   ]
  },
  {
   "cell_type": "code",
   "execution_count": null,
   "metadata": {},
   "outputs": [],
   "source": [
    "# Close error file\n",
    "f_err.close()"
   ]
  },
  {
   "cell_type": "code",
   "execution_count": null,
   "metadata": {},
   "outputs": [],
   "source": []
  }
 ],
 "metadata": {
  "kernelspec": {
   "display_name": "Python 3",
   "language": "python",
   "name": "python3"
  },
  "language_info": {
   "codemirror_mode": {
    "name": "ipython",
    "version": 3
   },
   "file_extension": ".py",
   "mimetype": "text/x-python",
   "name": "python",
   "nbconvert_exporter": "python",
   "pygments_lexer": "ipython3",
   "version": "3.8.8"
  }
 },
 "nbformat": 4,
 "nbformat_minor": 4
}
