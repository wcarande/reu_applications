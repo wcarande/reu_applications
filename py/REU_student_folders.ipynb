{
 "cells": [
  {
   "cell_type": "markdown",
   "metadata": {},
   "source": [
    "# REU Student Application Assembly\n",
    "\n",
    "The goal of this notebook is to assemble application materials into a package for reviewers."
   ]
  },
  {
   "cell_type": "code",
   "execution_count": null,
   "metadata": {},
   "outputs": [],
   "source": [
    "import numpy as np\n",
    "import pandas as pd\n",
    "\n",
    "import os, sys\n",
    "import glob\n",
    "import datetime\n",
    "\n",
    "from mailmerge import MailMerge\n",
    "from shutil import copy2\n",
    "from docx2pdf import convert\n",
    "from PyPDF2 import PdfFileMerger, PdfFileReader, PdfFileWriter\n",
    "from pikepdf import Pdf\n",
    "\n",
    "%load_ext autoreload\n",
    "%autoreload 1"
   ]
  },
  {
   "cell_type": "markdown",
   "metadata": {},
   "source": [
    "### Update these values every year"
   ]
  },
  {
   "cell_type": "code",
   "execution_count": null,
   "metadata": {},
   "outputs": [],
   "source": [
    "# CSV with application info\n",
    "df_app_orig = pd.read_csv('../REU_2021_final.csv')\n",
    "\n",
    "# CSV with rec letter info\n",
    "df_letter = pd.read_csv('../REU_Letters_final.csv')\n",
    "\n",
    "# These were the indices to be dropped we determined by inspecting the applications\n",
    "drop_list = [124, 59, 65, 116, 17]"
   ]
  },
  {
   "cell_type": "markdown",
   "metadata": {},
   "source": [
    "### Define dataframes"
   ]
  },
  {
   "cell_type": "code",
   "execution_count": null,
   "metadata": {},
   "outputs": [],
   "source": [
    "# Define a full name column (first plus last) for use later\n",
    "df_app_orig['full_name'] = df_app_orig['Q1']+df_app_orig['Q2']\n",
    "\n",
    "# Remove unfinished applications, student who will graduate before program, and non-citizens\n",
    "df_app_slice = df_app_orig[(df_app_orig['Finished']=='True') & (df_app_orig['Q5']=='Yes') &\n",
    "            (df_app_orig['Q12']=='No')]\n",
    "\n",
    "# Find the duplicates\n",
    "df_duplicate = df_app_slice[df_app_slice.duplicated(subset = ['full_name'], keep=False)]\n",
    "\n",
    "# Print duplicates to a csv file\n",
    "df_duplicate.sort_values(by=['full_name']).to_csv('../duplicates.csv')"
   ]
  },
  {
   "cell_type": "code",
   "execution_count": null,
   "metadata": {},
   "outputs": [],
   "source": [
    "# Drop the indices from the drop list\n",
    "df_app_slice.drop(drop_list, inplace=True)"
   ]
  },
  {
   "cell_type": "code",
   "execution_count": null,
   "metadata": {},
   "outputs": [],
   "source": [
    "# Replace NaNs (makes the application prettier)\n",
    "df_app = df_app_slice.replace(np.nan, '', regex=True)\n",
    "\n",
    "# Reset the indices\n",
    "df_app.reset_index(inplace=True)\n",
    "\n",
    "# Print a final list to put on Google docs\n",
    "df_app.drop(df_app.columns[np.arange(19)], axis=1).to_csv('../final_list.csv')"
   ]
  },
  {
   "cell_type": "markdown",
   "metadata": {},
   "source": [
    "### Make Student Directories and Create an Application docx for each student"
   ]
  },
  {
   "cell_type": "code",
   "execution_count": null,
   "metadata": {},
   "outputs": [],
   "source": [
    "dt_now = datetime.datetime.now().strftime(\"%Y%m%d-%H%M%S\")\n",
    "\n",
    "f_error = f'../errors-{dt_now}.txt'\n",
    "f_err = open(f_error, \"a\")\n",
    "\n",
    "for i in df_app.index.tolist():\n",
    "    try:\n",
    "        # Format student name\n",
    "        name = f\"{df_app['Q1'][i]} {df_app['Q2'][i]}\"\n",
    "        print(f'Starting {name}')\n",
    "\n",
    "        # Define student directory\n",
    "        student_dir = f\"../student_folders/{df_app['Q2'][i]}_{df_app['Q1'][i]}\"\n",
    "\n",
    "        # Make the directory\n",
    "        os.mkdir(student_dir)\n",
    "\n",
    "        # MailMerge to create pretty application\n",
    "        with MailMerge('../application_template.docx') as document:\n",
    "            f_docx = f\"../docx/{df_app['Q2'][i]}_{df_app['Q1'][i]}_application.docx\"\n",
    "            f_pdf = f\"../docx/{df_app['Q2'][i]}_{df_app['Q1'][i]}_application.pdf\"\n",
    "            document.merge(Q34_2=str(df_app['Q34_2'][i]), Q25_3=str(df_app['Q25_3'][i]), \n",
    "                           Q26=str(df_app['Q26'][i]), Q231=str(df_app['Q23.1'][i]), \n",
    "                           Q30=str(df_app['Q30'][i]), Q31=str(df_app['Q31'][i]), \n",
    "                           Q38=str(df_app['Q38'][i]), Q34_3=str(df_app['Q34_3'][i]), \n",
    "                           Q63=str(df_app['Q63'][i]), Q2=str(df_app['Q2'][i]), \n",
    "                           Q36=str(df_app['Q36'][i]), Q40=str(df_app['Q40'][i]), \n",
    "                           Q33=str(df_app['Q33'][i]), Q25_1=str(df_app['Q25_1'][i]), \n",
    "                           Q11=str(df_app['Q11'][i]), Q37=str(df_app['Q37'][i]), \n",
    "                           Q24=str(df_app['Q24'][i]), Q19=str(df_app['Q19'][i]), \n",
    "                           Q27=str(df_app['Q27'][i]), Q34_5=str(df_app['Q34_5'][i]), \n",
    "                           Q28=str(df_app['Q28'][i]), Q23=str(df_app['Q23'][i]), \n",
    "                           Q29=str(df_app['Q29'][i]), Q39=str(df_app['Q39'][i]), \n",
    "                           Q34_4=str(df_app['Q34_4'][i]), Q32=str(df_app['Q32'][i]), \n",
    "                           Q22=str(df_app['Q22'][i]), Q21=str(df_app['Q21'][i]), \n",
    "                           Q6=str(df_app['Q6'][i]), Q1=str(df_app['Q1'][i]), \n",
    "                           Q25_2=str(df_app['Q25_2'][i]), Q43=str(df_app['Q43'][i]), \n",
    "                           Q34_1=str(df_app['Q34_1'][i]), Q7=str(df_app['Q7'][i]), \n",
    "                           Q20=str(df_app['Q20'][i]))\n",
    "\n",
    "            # Write pretty application\n",
    "            document.write(f_docx)\n",
    "\n",
    "\n",
    "    except:\n",
    "        print(f'Problem with {name}')\n",
    "        f_err.write(f'Problem with {name}\\n \\n')\n",
    "        error = sys.exc_info()\n",
    "        print(error)\n",
    "        f_err.write(f'{error} \\n \\n')\n",
    "        pass\n",
    "        \n",
    "f_err.close()"
   ]
  },
  {
   "cell_type": "markdown",
   "metadata": {},
   "source": [
    "### Convert Application docx files to pdf"
   ]
  },
  {
   "cell_type": "code",
   "execution_count": null,
   "metadata": {},
   "outputs": [],
   "source": [
    "convert('../docx', keep_active=True)"
   ]
  },
  {
   "cell_type": "markdown",
   "metadata": {},
   "source": [
    "### Move Application PDFs to student folders"
   ]
  },
  {
   "cell_type": "code",
   "execution_count": null,
   "metadata": {},
   "outputs": [],
   "source": [
    "f_error = f'../errors-{dt_now}.txt'\n",
    "f_err = open(f_error, \"a\")\n",
    "\n",
    "for i in df_app.index.tolist():\n",
    "    try:\n",
    "        # Format student name\n",
    "        name = f\"{df_app['Q1'][i]} {df_app['Q2'][i]}\"\n",
    "        print(f'Starting {name}')\n",
    "\n",
    "        # Define student directory\n",
    "        student_dir = f'../student_folders/{df_app.Q2[i]}_{df_app.Q1[i]}'\n",
    "\n",
    "        # Copy PDF of application to student directory\n",
    "        f_pdf = f'../docx/{df_app.Q2[i]}_{df_app.Q1[i]}_application.pdf'\n",
    "        copy2(f_pdf, student_dir)\n",
    "\n",
    "    except:\n",
    "        print(f'Problem with {name}')\n",
    "        f_err.write(f'Problem with {name}')\n",
    "        error = sys.exc_info()\n",
    "        print(error)\n",
    "        f_err.write(f'{error} \\n \\n')\n",
    "        pass\n",
    "        \n",
    "f_err.close()"
   ]
  },
  {
   "cell_type": "markdown",
   "metadata": {},
   "source": [
    "### Copy transcripts to student folders"
   ]
  },
  {
   "cell_type": "code",
   "execution_count": null,
   "metadata": {},
   "outputs": [],
   "source": [
    "f_error = f'../errors-{dt_now}.txt'\n",
    "f_err = open(f_error, \"a\")\n",
    "\n",
    "for i in df_app.index.tolist():\n",
    "    try:\n",
    "        # Format student name\n",
    "        name = f\"{df_app['Q1'][i]} {df_app['Q2'][i]}\"\n",
    "        print(f'Starting {name}')\n",
    "\n",
    "        # Define student directory\n",
    "        student_dir = f'../student_folders/{df_app.Q2[i]}_{df_app.Q1[i]}'\n",
    "\n",
    "        # Copy transcripts to student dir\n",
    "        id_num = df_app['ResponseId'][i]\n",
    "        id_name = f'../Q45/*{id_num}*'\n",
    "        transcripts = glob.glob(id_name)\n",
    "        for transcript in transcripts:\n",
    "            tran_name = os.path.basename(transcript)\n",
    "            tran_rename = f'zzzz_{tran_name}'\n",
    "            copy2(transcript, f'{student_dir}/{tran_rename}')\n",
    "\n",
    "    except:\n",
    "        print(f'Problem with {name}')\n",
    "        f_err.write(f'Problem with {name}')\n",
    "        error = sys.exc_info()\n",
    "        print(error)\n",
    "        f_err.write(f'{error} \\n \\n')\n",
    "        pass\n",
    "        \n",
    "f_err.close()"
   ]
  },
  {
   "cell_type": "markdown",
   "metadata": {},
   "source": [
    "### Create sheets with recommendation info"
   ]
  },
  {
   "cell_type": "code",
   "execution_count": null,
   "metadata": {},
   "outputs": [],
   "source": [
    "# Replace NaNs\n",
    "df_letter = df_letter.replace(np.nan, '', regex=True)"
   ]
  },
  {
   "cell_type": "code",
   "execution_count": null,
   "metadata": {},
   "outputs": [],
   "source": [
    "for i in df_app.index.tolist():\n",
    "    # Format student name\n",
    "    name = f\"{df_app['Q1'][i]} {df_app['Q2'][i]}\"\n",
    "    print(f'Starting {name}')\n",
    "\n",
    "    # Define student directory\n",
    "    student_dir = f'../student_folders/{df_app.Q2[i]}_{df_app.Q1[i]}'\n",
    "\n",
    "    # Make Rec Sheets from template\n",
    "    df_name = df_letter[df_letter['Q13'] == name]\n",
    "\n",
    "    n = 1\n",
    "    for ind in df_name.index.tolist():\n",
    "        # MailMerge to create pretty rec sheets\n",
    "        with MailMerge('../rec_template.docx') as document:\n",
    "            f_docx = f\"../docx/rec/{df_app['Q2'][i]}_{df_app['Q1'][i]}_rec_{n}.docx\"\n",
    "            f_pdf = f\"../docx/rec/{df_app['Q2'][i]}_{df_app['Q1'][i]}_rec_{n}.pdf\"\n",
    "            document.merge(Q1=str(df_letter['Q1'][ind]), Q2=str(df_letter['Q2'][ind]), \n",
    "                           Q3=str(df_letter['Q3'][ind]), Q12=str(df_letter['Q12'][ind]), \n",
    "                           Q13=str(df_letter['Q13'][ind]), Q14=str(df_letter['Q14'][ind]))\n",
    "\n",
    "            # Write pretty application\n",
    "            document.write(f_docx)\n",
    "\n",
    "            n += 1"
   ]
  },
  {
   "cell_type": "markdown",
   "metadata": {},
   "source": [
    "### Convert rec sheets from docx to pdf"
   ]
  },
  {
   "cell_type": "code",
   "execution_count": null,
   "metadata": {},
   "outputs": [],
   "source": [
    "convert('../docx/rec', keep_active=True)"
   ]
  },
  {
   "cell_type": "markdown",
   "metadata": {},
   "source": [
    "### Move rec sheets to student folders"
   ]
  },
  {
   "cell_type": "code",
   "execution_count": null,
   "metadata": {},
   "outputs": [],
   "source": [
    "# Copy rec sheets to student directories\n",
    "\n",
    "f_error = f'../errors-{dt_now}.txt'\n",
    "f_err = open(f_error, \"a\")\n",
    "\n",
    "for i in df_app.index.tolist():\n",
    "    try:\n",
    "        # Format student name\n",
    "        name = f\"{df_app['Q1'][i]} {df_app['Q2'][i]}\"\n",
    "        print(f'Starting {name}')\n",
    "\n",
    "        # Define student directory\n",
    "        student_dir = f'../student_folders/{df_app.Q2[i]}_{df_app.Q1[i]}'\n",
    "\n",
    "        # Copy PDF of rec sheets to student directory\n",
    "        for file in glob.glob(f'../docx/rec/{df_app.Q2[i]}_{df_app.Q1[i]}_rec_*.pdf'):\n",
    "            rec_sheet = os.path.basename(file)\n",
    "            rec_sheet_rename = f'zz_{rec_sheet}'\n",
    "            copy2(file, f'{student_dir}/{rec_sheet_rename}')\n",
    "\n",
    "    except:\n",
    "        print(f'Problem with {name}')\n",
    "        f_err.write(f'Problem with {name}')\n",
    "        error = sys.exc_info()\n",
    "        print(error)\n",
    "        f_err.write(f'{error} \\n \\n')\n",
    "        pass\n",
    "        \n",
    "f_err.close()"
   ]
  },
  {
   "cell_type": "markdown",
   "metadata": {},
   "source": [
    "### Move recommendation letters to student folders"
   ]
  },
  {
   "cell_type": "code",
   "execution_count": null,
   "metadata": {},
   "outputs": [],
   "source": [
    "f_error = f'../errors-{dt_now}.txt'\n",
    "f_err = open(f_error, \"a\")\n",
    "\n",
    "for i in df_app.index.tolist():\n",
    "    try:\n",
    "        # Format student name\n",
    "        name = f\"{df_app['Q1'][i]} {df_app['Q2'][i]}\"\n",
    "        print(f'Starting {name}')\n",
    "\n",
    "        # Define student directory\n",
    "        student_dir = f'../student_folders/{df_app.Q2[i]}_{df_app.Q1[i]}'\n",
    "\n",
    "        # Copy rec letters to student dir\n",
    "        df_name = df_letter[df_letter['Q13'] == name]\n",
    "        ids = df_name['ResponseId'].tolist()\n",
    "        if len(ids) > 0:\n",
    "            for id in ids:\n",
    "                id_name = f'../Q15/*{id}*'\n",
    "                rec_letter = glob.glob(id_name)[0]\n",
    "                rec_name = os.path.basename(rec_letter)\n",
    "                rec_letter_rename = f'zzz_{rec_name}'\n",
    "                copy2(rec_letter, f'{student_dir}/{rec_letter_rename}')\n",
    "\n",
    "    except:\n",
    "        print(f'Problem with {name}')\n",
    "        f_err.write(f'Problem with {name}')\n",
    "        error = sys.exc_info()\n",
    "        print(error)\n",
    "        f_err.write(f'{error} \\n \\n')\n",
    "        pass\n",
    "        \n",
    "f_err.close()"
   ]
  },
  {
   "cell_type": "markdown",
   "metadata": {},
   "source": [
    "### Save a merged PDF"
   ]
  },
  {
   "cell_type": "code",
   "execution_count": null,
   "metadata": {},
   "outputs": [],
   "source": [
    "f_error = f'../errors-{dt_now}.txt'\n",
    "f_err = open(f_error, \"a\")\n",
    "\n",
    "for i in df_app.index.tolist():\n",
    "    try:\n",
    "        # Format student name\n",
    "        name = f\"{df_app['Q1'][i]} {df_app['Q2'][i]}\"\n",
    "        print(f'Starting {name}')\n",
    "\n",
    "        # Define student directory\n",
    "        student_dir = f'../student_folders/{df_app.Q2[i]}_{df_app.Q1[i]}'\n",
    "\n",
    "        # Merge pdfs\n",
    "        pdfs_unsorted = glob.glob(f'{student_dir}/*.pdf')\n",
    "        pdfs_unsorted_2 = glob.glob(f'{student_dir}/*.PDF')\n",
    "        pdfs = sorted(pdfs_unsorted+pdfs_unsorted_2)\n",
    "\n",
    "        if len(pdfs) > 0:\n",
    "            out = PdfFileWriter()\n",
    "            merger = PdfFileMerger(strict=False)\n",
    "            for pdf in pdfs:\n",
    "                pdf_file = PdfFileReader(pdf)\n",
    "                if pdf_file.isEncrypted:\n",
    "                    # This block creates a dummy decrypted file and adds it to the merged pdf\n",
    "                    with Pdf.open(pdf) as pdffile:\n",
    "                        pdffile.save(\"myfile_decrypted.pdf\")\n",
    "                    merger.append(\"myfile_decrypted.pdf\", import_bookmarks=False)\n",
    "                else:            \n",
    "                    merger.append(pdf, import_bookmarks=False)\n",
    "            merger.write(f'{student_dir}/{df_app.Q2[i]}_{df_app.Q1[i]}_merged.pdf')\n",
    "            merger.close()\n",
    "\n",
    "    except:\n",
    "        print(f'Problem with {name}')\n",
    "        f_err.write(f'Problem with {name}')\n",
    "        error = sys.exc_info()\n",
    "        print(error)\n",
    "        f_err.write(f'{error} \\n \\n')\n",
    "        pass\n",
    "        \n",
    "f_err.close()"
   ]
  },
  {
   "cell_type": "code",
   "execution_count": null,
   "metadata": {},
   "outputs": [],
   "source": []
  }
 ],
 "metadata": {
  "kernelspec": {
   "display_name": "Python 3",
   "language": "python",
   "name": "python3"
  },
  "language_info": {
   "codemirror_mode": {
    "name": "ipython",
    "version": 3
   },
   "file_extension": ".py",
   "mimetype": "text/x-python",
   "name": "python",
   "nbconvert_exporter": "python",
   "pygments_lexer": "ipython3",
   "version": "3.6.7"
  }
 },
 "nbformat": 4,
 "nbformat_minor": 4
}
